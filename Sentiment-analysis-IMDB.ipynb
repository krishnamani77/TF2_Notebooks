{
  "nbformat": 4,
  "nbformat_minor": 0,
  "metadata": {
    "colab": {
      "name": "Untitled1.ipynb",
      "provenance": [],
      "collapsed_sections": [],
      "authorship_tag": "ABX9TyMq88zouuPtrPcfyXzKMuVN",
      "include_colab_link": true
    },
    "kernelspec": {
      "name": "python3",
      "display_name": "Python 3"
    },
    "accelerator": "GPU"
  },
  "cells": [
    {
      "cell_type": "markdown",
      "metadata": {
        "id": "view-in-github",
        "colab_type": "text"
      },
      "source": [
        "<a href=\"https://colab.research.google.com/github/krishnamani77/TF2_Notebooks/blob/master/Sentiment-analysis-IMDB.ipynb\" target=\"_parent\"><img src=\"https://colab.research.google.com/assets/colab-badge.svg\" alt=\"Open In Colab\"/></a>"
      ]
    },
    {
      "cell_type": "code",
      "metadata": {
        "id": "1m3dZYh6qHro",
        "colab_type": "code",
        "colab": {}
      },
      "source": [
        "import keras\n",
        "import keras.datasets\n",
        "from keras.preprocessing import sequence\n",
        "import tensorflow as tf\n",
        "from keras.models import Sequential\n",
        "from keras.layers import Embedding, GRU, Dense, Dropout, LSTM"
      ],
      "execution_count": 0,
      "outputs": []
    },
    {
      "cell_type": "code",
      "metadata": {
        "id": "vv1db7OyRKjh",
        "colab_type": "code",
        "outputId": "a9818945-b2fe-48a0-a8fc-9acbf4714e1c",
        "colab": {
          "base_uri": "https://localhost:8080/",
          "height": 34
        }
      },
      "source": [
        "tf.test.gpu_device_name()"
      ],
      "execution_count": 37,
      "outputs": [
        {
          "output_type": "execute_result",
          "data": {
            "text/plain": [
              "'/device:GPU:0'"
            ]
          },
          "metadata": {
            "tags": []
          },
          "execution_count": 37
        }
      ]
    },
    {
      "cell_type": "code",
      "metadata": {
        "id": "tUxIkX2ArsUj",
        "colab_type": "code",
        "colab": {}
      },
      "source": [
        "# IMDB Sentiment analysis\n",
        "num_words_max = 200\n",
        "max_features =  20000\n",
        "(X_train, y_train), (X_test, y_test) = keras.datasets.imdb.load_data(num_words=max_features)"
      ],
      "execution_count": 0,
      "outputs": []
    },
    {
      "cell_type": "code",
      "metadata": {
        "id": "0M8pfJrrrnCX",
        "colab_type": "code",
        "colab": {}
      },
      "source": [
        "word_index = keras.datasets.imdb.get_word_index()\n",
        "reverse_index = {}\n",
        "for k, v in word_index.items():\n",
        "  reverse_index[v+3] = k"
      ],
      "execution_count": 0,
      "outputs": []
    },
    {
      "cell_type": "code",
      "metadata": {
        "id": "5Jaj5FZfoprV",
        "colab_type": "code",
        "colab": {}
      },
      "source": [
        "for id, token in enumerate((\"<pad>\", \"<sos>\", \"<unk\")):\n",
        "  reverse_index[id] = token"
      ],
      "execution_count": 0,
      "outputs": []
    },
    {
      "cell_type": "code",
      "metadata": {
        "id": "VgLtkjlBqBPU",
        "colab_type": "code",
        "colab": {}
      },
      "source": [
        "def get_text(idx_array):\n",
        "  return ' '.join([reverse_index[idx] for idx in idx_array])"
      ],
      "execution_count": 0,
      "outputs": []
    },
    {
      "cell_type": "code",
      "metadata": {
        "id": "OaAJ_HB-hAy0",
        "colab_type": "code",
        "outputId": "eace4af0-c45b-486b-942d-6adb840b1f65",
        "colab": {
          "base_uri": "https://localhost:8080/",
          "height": 54
        }
      },
      "source": [
        "print(get_text(X[0]))"
      ],
      "execution_count": 53,
      "outputs": [
        {
          "output_type": "stream",
          "text": [
            "<pad> <sos> <sos> <pad> <sos> <sos> <sos> <sos> <sos> <sos> <pad> <pad> <sos> <sos> <sos> <sos> <sos> <sos> <sos> <sos> <pad> <sos> <sos> <pad> <pad> <sos> <sos> <pad> <sos> <pad> <sos> <pad> <sos> <sos> <pad> <sos> <sos> <pad> <sos> <sos> <pad> <pad> <pad> <sos> <pad> <pad> <sos> <pad> <sos> <pad> <sos> <sos> <sos> <pad> <pad> <pad> <sos> <pad> <pad> <pad> <pad> <pad> <sos> <pad> <pad> <sos> <sos> <pad> <pad> <pad> <pad> <sos> <pad> <pad> <pad> <pad> <sos> <sos> <pad> <pad> <pad> <pad> <sos> <pad> <pad> <pad> <pad> <sos> <sos> <pad> <pad> <pad> <sos> <pad> <pad> <pad> <pad> <pad> <sos> <pad>\n"
          ],
          "name": "stdout"
        }
      ]
    },
    {
      "cell_type": "code",
      "metadata": {
        "id": "B0SDVQNWrl26",
        "colab_type": "code",
        "colab": {}
      },
      "source": [
        "X_train = sequence.pad_sequences(X_train, maxlen=num_words_max)\n",
        "X_test = sequence.pad_sequences(X_test, maxlen=num_words_max)"
      ],
      "execution_count": 0,
      "outputs": []
    },
    {
      "cell_type": "code",
      "metadata": {
        "id": "mrT83_EAmiQS",
        "colab_type": "code",
        "colab": {}
      },
      "source": [
        "def get_rnn_model(vocab_size, embed_size, input_shape):\n",
        "  embedding = Embedding(max_features, embed_size, input_shape=(num_words_max, ))\n",
        "  hidden1 = GRU(128, return_sequences = True)\n",
        "  hidden2 = GRU(128)\n",
        "  dense = Dense(1, activation='sigmoid')\n",
        "  model = Sequential([embedding, hidden1, hidden2, dense])\n",
        "  #model = Sequential()\n",
        "  #model.add(Embedding(max_features, embed_size))\n",
        "  #model.add(LSTM(128, dropout=0.2, recurrent_dropout=0.2))\n",
        "  #model.add(Dense(1, activation='sigmoid'))\n",
        "  \n",
        "  return model"
      ],
      "execution_count": 0,
      "outputs": []
    },
    {
      "cell_type": "code",
      "metadata": {
        "id": "WnJ1Z0D6fUfS",
        "colab_type": "code",
        "colab": {}
      },
      "source": [
        "def get_simple_model(input_shape):\n",
        "  model = Sequential()\n",
        "  # Input - Layer\n",
        "  model.add(Dense(50, activation = \"relu\", input_shape=input_shape))\n",
        "  # Hidden - Layers\n",
        "  model.add(Dropout(0.3, noise_shape=None, seed=None))\n",
        "  model.add(Dense(50, activation = \"relu\"))\n",
        "  model.add(Dropout(0.2, noise_shape=None, seed=None))\n",
        "  model.add(Dense(50, activation = \"relu\"))\n",
        "  # Output- Layer\n",
        "  model.add(Dense(1, activation = \"sigmoid\"))\n",
        "  return model"
      ],
      "execution_count": 0,
      "outputs": []
    },
    {
      "cell_type": "code",
      "metadata": {
        "id": "B4TyTV8ffGHL",
        "colab_type": "code",
        "outputId": "8f1727e6-08e6-40ac-fa23-a502fa0a02e2",
        "colab": {
          "base_uri": "https://localhost:8080/",
          "height": 510
        }
      },
      "source": [
        "#model = get_simple_model(input_shape=(num_words_max, ))\n",
        "embed_size = 128\n",
        "model = get_rnn_model(vocab_size, embed_size, (num_words_max, ))\n",
        "model.summary()\n",
        "model.compile(loss='binary_crossentropy', optimizer='adam', metrics=[\"accuracy\"])\n",
        "history = model.fit(X_train, y_train, validation_data=(X_test, y_test), batch_size=128, epochs=5)"
      ],
      "execution_count": 57,
      "outputs": [
        {
          "output_type": "stream",
          "text": [
            "Model: \"sequential_7\"\n",
            "_________________________________________________________________\n",
            "Layer (type)                 Output Shape              Param #   \n",
            "=================================================================\n",
            "embedding_7 (Embedding)      (None, 200, 128)          2560000   \n",
            "_________________________________________________________________\n",
            "gru_7 (GRU)                  (None, 200, 128)          98688     \n",
            "_________________________________________________________________\n",
            "gru_8 (GRU)                  (None, 128)               98688     \n",
            "_________________________________________________________________\n",
            "dense_6 (Dense)              (None, 1)                 129       \n",
            "=================================================================\n",
            "Total params: 2,757,505\n",
            "Trainable params: 2,757,505\n",
            "Non-trainable params: 0\n",
            "_________________________________________________________________\n"
          ],
          "name": "stdout"
        },
        {
          "output_type": "stream",
          "text": [
            "/usr/local/lib/python3.6/dist-packages/tensorflow/python/framework/indexed_slices.py:434: UserWarning: Converting sparse IndexedSlices to a dense Tensor of unknown shape. This may consume a large amount of memory.\n",
            "  \"Converting sparse IndexedSlices to a dense Tensor of unknown shape. \"\n"
          ],
          "name": "stderr"
        },
        {
          "output_type": "stream",
          "text": [
            "Train on 25000 samples, validate on 25000 samples\n",
            "Epoch 1/5\n",
            "25000/25000 [==============================] - 169s 7ms/step - loss: 0.4609 - accuracy: 0.7737 - val_loss: 0.3979 - val_accuracy: 0.8193\n",
            "Epoch 2/5\n",
            "25000/25000 [==============================] - 168s 7ms/step - loss: 0.2533 - accuracy: 0.8984 - val_loss: 0.3285 - val_accuracy: 0.8656\n",
            "Epoch 3/5\n",
            "25000/25000 [==============================] - 169s 7ms/step - loss: 0.1488 - accuracy: 0.9452 - val_loss: 0.3857 - val_accuracy: 0.8667\n",
            "Epoch 4/5\n",
            "25000/25000 [==============================] - 168s 7ms/step - loss: 0.0910 - accuracy: 0.9683 - val_loss: 0.4451 - val_accuracy: 0.8535\n",
            "Epoch 5/5\n",
            "25000/25000 [==============================] - 168s 7ms/step - loss: 0.0535 - accuracy: 0.9824 - val_loss: 0.5350 - val_accuracy: 0.8478\n"
          ],
          "name": "stdout"
        }
      ]
    },
    {
      "cell_type": "code",
      "metadata": {
        "id": "hdW_7Z3JX47a",
        "colab_type": "code",
        "colab": {}
      },
      "source": [
        "#for idx_array,actual in zip(X_test[:5], y_test[:5]):\n",
        "  #print(get_text(idx_array))\n",
        "#  print('The predicted sentiment is {} and the actual sentiment is {} '.format(model.predict(vectorize(idx_array)), actual))"
      ],
      "execution_count": 0,
      "outputs": []
    },
    {
      "cell_type": "code",
      "metadata": {
        "id": "j-0CGFBwqy_Y",
        "colab_type": "code",
        "outputId": "9e08e175-c0dc-4fd2-de1c-63a416da0b0d",
        "colab": {
          "base_uri": "https://localhost:8080/",
          "height": 34
        }
      },
      "source": [
        "print(np.mean(history.history[\"val_accuracy\"]))"
      ],
      "execution_count": 59,
      "outputs": [
        {
          "output_type": "stream",
          "text": [
            "0.8505760073661804\n"
          ],
          "name": "stdout"
        }
      ]
    },
    {
      "cell_type": "code",
      "metadata": {
        "id": "Z_U3UyE6sBYj",
        "colab_type": "code",
        "colab": {}
      },
      "source": [
        ""
      ],
      "execution_count": 0,
      "outputs": []
    }
  ]
}