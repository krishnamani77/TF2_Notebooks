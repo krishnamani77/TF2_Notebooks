{
  "nbformat": 4,
  "nbformat_minor": 0,
  "metadata": {
    "colab": {
      "name": "Untitled1.ipynb",
      "provenance": [],
      "collapsed_sections": [],
      "authorship_tag": "ABX9TyPuFqic4l1KWoh9YhGQYNHJ",
      "include_colab_link": true
    },
    "kernelspec": {
      "name": "python3",
      "display_name": "Python 3"
    },
    "accelerator": "GPU"
  },
  "cells": [
    {
      "cell_type": "markdown",
      "metadata": {
        "id": "view-in-github",
        "colab_type": "text"
      },
      "source": [
        "<a href=\"https://colab.research.google.com/github/krishnamani77/TF2_Notebooks/blob/master/Sentiment-analysis-IMDB.ipynb\" target=\"_parent\"><img src=\"https://colab.research.google.com/assets/colab-badge.svg\" alt=\"Open In Colab\"/></a>"
      ]
    },
    {
      "cell_type": "code",
      "metadata": {
        "id": "1m3dZYh6qHro",
        "colab_type": "code",
        "colab": {}
      },
      "source": [
        "import keras\n",
        "import keras.datasets\n",
        "from keras.preprocessing import sequence\n",
        "import tensorflow as tf\n",
        "from keras.models import Sequential\n",
        "from keras.layers import Embedding, GRU, Dense, Dropout, LSTM\n",
        "import numpy as np"
      ],
      "execution_count": 18,
      "outputs": []
    },
    {
      "cell_type": "code",
      "metadata": {
        "id": "vv1db7OyRKjh",
        "colab_type": "code",
        "colab": {
          "base_uri": "https://localhost:8080/",
          "height": 35
        },
        "outputId": "3135a825-cce3-4bdf-92fa-e910f079b501"
      },
      "source": [
        "tf.test.gpu_device_name()"
      ],
      "execution_count": 19,
      "outputs": [
        {
          "output_type": "execute_result",
          "data": {
            "application/vnd.google.colaboratory.intrinsic+json": {
              "type": "string"
            },
            "text/plain": [
              "'/device:GPU:0'"
            ]
          },
          "metadata": {
            "tags": []
          },
          "execution_count": 19
        }
      ]
    },
    {
      "cell_type": "code",
      "metadata": {
        "id": "tUxIkX2ArsUj",
        "colab_type": "code",
        "colab": {}
      },
      "source": [
        "# IMDB Sentiment analysis\n",
        "num_words_max = 500\n",
        "max_features =  50000\n",
        "(X_train, y_train), (X_test, y_test) = keras.datasets.imdb.load_data(num_words=max_features)"
      ],
      "execution_count": 21,
      "outputs": []
    },
    {
      "cell_type": "code",
      "metadata": {
        "id": "0M8pfJrrrnCX",
        "colab_type": "code",
        "colab": {}
      },
      "source": [
        "word_index = keras.datasets.imdb.get_word_index()\n",
        "reverse_index = {}\n",
        "for k, v in word_index.items():\n",
        "  reverse_index[v+3] = k"
      ],
      "execution_count": 22,
      "outputs": []
    },
    {
      "cell_type": "code",
      "metadata": {
        "id": "5Jaj5FZfoprV",
        "colab_type": "code",
        "colab": {}
      },
      "source": [
        "for id, token in enumerate((\"<pad>\", \"<sos>\", \"<unk\")):\n",
        "  reverse_index[id] = token"
      ],
      "execution_count": 23,
      "outputs": []
    },
    {
      "cell_type": "code",
      "metadata": {
        "id": "VgLtkjlBqBPU",
        "colab_type": "code",
        "colab": {}
      },
      "source": [
        "def get_text(idx_array):\n",
        "  return ' '.join([reverse_index[idx] for idx in idx_array])"
      ],
      "execution_count": 24,
      "outputs": []
    },
    {
      "cell_type": "code",
      "metadata": {
        "id": "OaAJ_HB-hAy0",
        "colab_type": "code",
        "colab": {
          "base_uri": "https://localhost:8080/",
          "height": 54
        },
        "outputId": "53e66f71-4d87-44b8-b301-8ad6a5af9717"
      },
      "source": [
        "print(get_text(X_train[0]))"
      ],
      "execution_count": 25,
      "outputs": [
        {
          "output_type": "stream",
          "text": [
            "<sos> this film was just brilliant casting location scenery story direction everyone's really suited the part they played and you could just imagine being there robert redford's is an amazing actor and now the same being director norman's father came from the same scottish island as myself so i loved the fact there was a real connection with this film the witty remarks throughout the film were great it was just brilliant so much that i bought the film as soon as it was released for retail and would recommend it to everyone to watch and the fly fishing was amazing really cried at the end it was so sad and you know what they say if you cry at a film it must have been good and this definitely was also congratulations to the two little boy's that played the part's of norman and paul they were just brilliant children are often left out of the praising list i think because the stars that play them all grown up are such a big profile for the whole film but these children are amazing and should be praised for what they have done don't you think the whole story was so lovely because it was true and was someone's life after all that was shared with us all\n"
          ],
          "name": "stdout"
        }
      ]
    },
    {
      "cell_type": "code",
      "metadata": {
        "id": "B0SDVQNWrl26",
        "colab_type": "code",
        "colab": {}
      },
      "source": [
        "X_train = sequence.pad_sequences(X_train, maxlen=num_words_max)\n",
        "X_test = sequence.pad_sequences(X_test, maxlen=num_words_max)"
      ],
      "execution_count": 26,
      "outputs": []
    },
    {
      "cell_type": "code",
      "metadata": {
        "id": "mrT83_EAmiQS",
        "colab_type": "code",
        "colab": {}
      },
      "source": [
        "def get_rnn_model(vocab_size, embed_size, input_shape):\n",
        "  embedding = Embedding(vocab_size, embed_size, input_shape=(num_words_max, ))\n",
        "  hidden1 = GRU(128, return_sequences = True)\n",
        "  hidden2 = GRU(128)\n",
        "  dense = Dense(1, activation='sigmoid')\n",
        "  model = Sequential([embedding, hidden1, hidden2, dense])\n",
        "   \n",
        "  return model"
      ],
      "execution_count": 27,
      "outputs": []
    },
    {
      "cell_type": "code",
      "metadata": {
        "id": "WnJ1Z0D6fUfS",
        "colab_type": "code",
        "colab": {}
      },
      "source": [
        "def get_simple_model(input_shape):\n",
        "  model = Sequential()\n",
        "  # Input - Layer\n",
        "  model.add(Dense(50, activation = \"relu\", input_shape=input_shape))\n",
        "  # Hidden - Layers\n",
        "  model.add(Dropout(0.3, noise_shape=None, seed=None))\n",
        "  model.add(Dense(50, activation = \"relu\"))\n",
        "  model.add(Dropout(0.2, noise_shape=None, seed=None))\n",
        "  model.add(Dense(50, activation = \"relu\"))\n",
        "  # Output- Layer\n",
        "  model.add(Dense(1, activation = \"sigmoid\"))\n",
        "  return model"
      ],
      "execution_count": 28,
      "outputs": []
    },
    {
      "cell_type": "code",
      "metadata": {
        "id": "B4TyTV8ffGHL",
        "colab_type": "code",
        "colab": {
          "base_uri": "https://localhost:8080/",
          "height": 510
        },
        "outputId": "250aa16f-b095-4517-a94e-f9c1be6b3ea7"
      },
      "source": [
        "#model = get_simple_model(input_shape=(num_words_max, ))\n",
        "embed_size = 128\n",
        "model = get_rnn_model(max_features, embed_size, (num_words_max, ))\n",
        "model.summary()\n",
        "model.compile(loss='binary_crossentropy', optimizer='adam', metrics=[\"accuracy\"])\n",
        "history = model.fit(X_train, y_train, validation_data=(X_test, y_test), batch_size=128, epochs=5)"
      ],
      "execution_count": 29,
      "outputs": [
        {
          "output_type": "stream",
          "text": [
            "Model: \"sequential_3\"\n",
            "_________________________________________________________________\n",
            "Layer (type)                 Output Shape              Param #   \n",
            "=================================================================\n",
            "embedding_2 (Embedding)      (None, 500, 128)          6400000   \n",
            "_________________________________________________________________\n",
            "gru_3 (GRU)                  (None, 500, 128)          98688     \n",
            "_________________________________________________________________\n",
            "gru_4 (GRU)                  (None, 128)               98688     \n",
            "_________________________________________________________________\n",
            "dense_6 (Dense)              (None, 1)                 129       \n",
            "=================================================================\n",
            "Total params: 6,597,505\n",
            "Trainable params: 6,597,505\n",
            "Non-trainable params: 0\n",
            "_________________________________________________________________\n"
          ],
          "name": "stdout"
        },
        {
          "output_type": "stream",
          "text": [
            "/usr/local/lib/python3.6/dist-packages/tensorflow/python/framework/indexed_slices.py:434: UserWarning: Converting sparse IndexedSlices to a dense Tensor of unknown shape. This may consume a large amount of memory.\n",
            "  \"Converting sparse IndexedSlices to a dense Tensor of unknown shape. \"\n"
          ],
          "name": "stderr"
        },
        {
          "output_type": "stream",
          "text": [
            "Train on 25000 samples, validate on 25000 samples\n",
            "Epoch 1/5\n",
            "25000/25000 [==============================] - 439s 18ms/step - loss: 0.4749 - accuracy: 0.7651 - val_loss: 0.3764 - val_accuracy: 0.8362\n",
            "Epoch 2/5\n",
            "25000/25000 [==============================] - 442s 18ms/step - loss: 0.2373 - accuracy: 0.9090 - val_loss: 0.3590 - val_accuracy: 0.8468\n",
            "Epoch 3/5\n",
            "25000/25000 [==============================] - 440s 18ms/step - loss: 0.1481 - accuracy: 0.9473 - val_loss: 0.3790 - val_accuracy: 0.8581\n",
            "Epoch 4/5\n",
            "25000/25000 [==============================] - 444s 18ms/step - loss: 0.0701 - accuracy: 0.9772 - val_loss: 0.4249 - val_accuracy: 0.8454\n",
            "Epoch 5/5\n",
            "25000/25000 [==============================] - 428s 17ms/step - loss: 0.0418 - accuracy: 0.9870 - val_loss: 0.5884 - val_accuracy: 0.8536\n"
          ],
          "name": "stdout"
        }
      ]
    },
    {
      "cell_type": "code",
      "metadata": {
        "id": "hdW_7Z3JX47a",
        "colab_type": "code",
        "colab": {}
      },
      "source": [
        "#for idx_array,actual in zip(X_test[:5], y_test[:5]):\n",
        "  #print(get_text(idx_array))\n",
        "#  print('The predicted sentiment is {} and the actual sentiment is {} '.format(model.predict(vectorize(idx_array)), actual))"
      ],
      "execution_count": 1,
      "outputs": []
    },
    {
      "cell_type": "code",
      "metadata": {
        "id": "j-0CGFBwqy_Y",
        "colab_type": "code",
        "colab": {
          "base_uri": "https://localhost:8080/",
          "height": 34
        },
        "outputId": "517f9fc2-2101-4e72-85cc-f389a475b123"
      },
      "source": [
        "print(np.mean(history.history[\"val_accuracy\"]))"
      ],
      "execution_count": 30,
      "outputs": [
        {
          "output_type": "stream",
          "text": [
            "0.8480400085449219\n"
          ],
          "name": "stdout"
        }
      ]
    },
    {
      "cell_type": "code",
      "metadata": {
        "id": "Z_U3UyE6sBYj",
        "colab_type": "code",
        "colab": {}
      },
      "source": [
        ""
      ],
      "execution_count": null,
      "outputs": []
    }
  ]
}