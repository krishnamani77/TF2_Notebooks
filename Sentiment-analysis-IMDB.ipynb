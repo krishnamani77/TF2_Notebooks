{
  "nbformat": 4,
  "nbformat_minor": 0,
  "metadata": {
    "colab": {
      "name": "Untitled1.ipynb",
      "provenance": [],
      "collapsed_sections": [],
      "authorship_tag": "ABX9TyMQEv7MwkouI76Td4IB/HYK",
      "include_colab_link": true
    },
    "kernelspec": {
      "name": "python3",
      "display_name": "Python 3"
    },
    "accelerator": "GPU"
  },
  "cells": [
    {
      "cell_type": "markdown",
      "metadata": {
        "id": "view-in-github",
        "colab_type": "text"
      },
      "source": [
        "<a href=\"https://colab.research.google.com/github/krishnamani77/TF2_Notebooks/blob/master/Sentiment-analysis-IMDB.ipynb\" target=\"_parent\"><img src=\"https://colab.research.google.com/assets/colab-badge.svg\" alt=\"Open In Colab\"/></a>"
      ]
    },
    {
      "cell_type": "code",
      "metadata": {
        "id": "1m3dZYh6qHro",
        "colab_type": "code",
        "colab": {}
      },
      "source": [
        "import keras\n",
        "import keras.datasets"
      ],
      "execution_count": 0,
      "outputs": []
    },
    {
      "cell_type": "code",
      "metadata": {
        "id": "vv1db7OyRKjh",
        "colab_type": "code",
        "outputId": "401c2c79-af25-4bb8-df23-f45311a4db8a",
        "colab": {
          "base_uri": "https://localhost:8080/",
          "height": 34
        }
      },
      "source": [
        "import tensorflow as tf\n",
        "tf.test.gpu_device_name()"
      ],
      "execution_count": 21,
      "outputs": [
        {
          "output_type": "execute_result",
          "data": {
            "text/plain": [
              "'/device:GPU:0'"
            ]
          },
          "metadata": {
            "tags": []
          },
          "execution_count": 21
        }
      ]
    },
    {
      "cell_type": "code",
      "metadata": {
        "id": "tUxIkX2ArsUj",
        "colab_type": "code",
        "colab": {}
      },
      "source": [
        "# IMDB Sentiment analysis\n",
        "num_words_max = 3000\n",
        "(X, y), (X_test, y_test) = keras.datasets.imdb.load_data(num_words=num_words_max)"
      ],
      "execution_count": 0,
      "outputs": []
    },
    {
      "cell_type": "code",
      "metadata": {
        "id": "0M8pfJrrrnCX",
        "colab_type": "code",
        "colab": {}
      },
      "source": [
        "word_index = keras.datasets.imdb.get_word_index()\n",
        "reverse_index = {}\n",
        "for k, v in word_index.items():\n",
        "  reverse_index[v+3] = k"
      ],
      "execution_count": 0,
      "outputs": []
    },
    {
      "cell_type": "code",
      "metadata": {
        "id": "ya4trdfXUjTX",
        "colab_type": "code",
        "outputId": "ecf788d9-52fa-4c93-f7da-a58ed3915ca3",
        "colab": {
          "base_uri": "https://localhost:8080/",
          "height": 34
        }
      },
      "source": [
        "print(len(word_index), len(reverse_index))"
      ],
      "execution_count": 24,
      "outputs": [
        {
          "output_type": "stream",
          "text": [
            "88584 88584\n"
          ],
          "name": "stdout"
        }
      ]
    },
    {
      "cell_type": "code",
      "metadata": {
        "id": "9GRlFcZ2IN1x",
        "colab_type": "code",
        "outputId": "6d995644-9b0a-4fab-c0a8-4b952fc18734",
        "colab": {
          "base_uri": "https://localhost:8080/",
          "height": 88
        }
      },
      "source": [
        "print(X[0])\n",
        "print(y[:10])\n",
        "print(y[0])"
      ],
      "execution_count": 25,
      "outputs": [
        {
          "output_type": "stream",
          "text": [
            "[1, 14, 22, 16, 43, 530, 973, 1622, 1385, 65, 458, 2, 66, 2, 4, 173, 36, 256, 5, 25, 100, 43, 838, 112, 50, 670, 2, 9, 35, 480, 284, 5, 150, 4, 172, 112, 167, 2, 336, 385, 39, 4, 172, 2, 1111, 17, 546, 38, 13, 447, 4, 192, 50, 16, 6, 147, 2025, 19, 14, 22, 4, 1920, 2, 469, 4, 22, 71, 87, 12, 16, 43, 530, 38, 76, 15, 13, 1247, 4, 22, 17, 515, 17, 12, 16, 626, 18, 2, 5, 62, 386, 12, 8, 316, 8, 106, 5, 4, 2223, 2, 16, 480, 66, 2, 33, 4, 130, 12, 16, 38, 619, 5, 25, 124, 51, 36, 135, 48, 25, 1415, 33, 6, 22, 12, 215, 28, 77, 52, 5, 14, 407, 16, 82, 2, 8, 4, 107, 117, 2, 15, 256, 4, 2, 7, 2, 5, 723, 36, 71, 43, 530, 476, 26, 400, 317, 46, 7, 4, 2, 1029, 13, 104, 88, 4, 381, 15, 297, 98, 32, 2071, 56, 26, 141, 6, 194, 2, 18, 4, 226, 22, 21, 134, 476, 26, 480, 5, 144, 30, 2, 18, 51, 36, 28, 224, 92, 25, 104, 4, 226, 65, 16, 38, 1334, 88, 12, 16, 283, 5, 16, 2, 113, 103, 32, 15, 16, 2, 19, 178, 32]\n",
            "[1 0 0 1 0 0 1 0 1 0]\n",
            "1\n"
          ],
          "name": "stdout"
        }
      ]
    },
    {
      "cell_type": "code",
      "metadata": {
        "id": "5Jaj5FZfoprV",
        "colab_type": "code",
        "colab": {}
      },
      "source": [
        "for id, token in enumerate((\"<pad>\", \"<sos>\", \"<unk\")):\n",
        "  reverse_index[id] = token"
      ],
      "execution_count": 0,
      "outputs": []
    },
    {
      "cell_type": "code",
      "metadata": {
        "id": "VgLtkjlBqBPU",
        "colab_type": "code",
        "colab": {}
      },
      "source": [
        "def get_text(idx_array):\n",
        "  return ' '.join([reverse_index[idx] for idx in idx_array])"
      ],
      "execution_count": 0,
      "outputs": []
    },
    {
      "cell_type": "code",
      "metadata": {
        "id": "OaAJ_HB-hAy0",
        "colab_type": "code",
        "outputId": "5b42d993-4271-44a8-cec8-a435af4d74dc",
        "colab": {
          "base_uri": "https://localhost:8080/",
          "height": 54
        }
      },
      "source": [
        "#s = ' '.join([reverse_index[idx] for idx in X[0][:10]])\n",
        "print(get_text(X[0]))"
      ],
      "execution_count": 33,
      "outputs": [
        {
          "output_type": "stream",
          "text": [
            "<sos> this film was just brilliant casting location scenery story direction <unk really <unk the part they played and you could just imagine being there robert <unk is an amazing actor and now the same being director <unk father came from the same <unk island as myself so i loved the fact there was a real connection with this film the witty <unk throughout the film were great it was just brilliant so much that i bought the film as soon as it was released for <unk and would recommend it to everyone to watch and the fly <unk was amazing really <unk at the end it was so sad and you know what they say if you cry at a film it must have been good and this definitely was also <unk to the two little <unk that played the <unk of <unk and paul they were just brilliant children are often left out of the <unk list i think because the stars that play them all grown up are such a big <unk for the whole film but these children are amazing and should be <unk for what they have done don't you think the whole story was so lovely because it was true and was <unk life after all that was <unk with us all\n"
          ],
          "name": "stdout"
        }
      ]
    },
    {
      "cell_type": "code",
      "metadata": {
        "id": "e1f0c8DDXNaA",
        "colab_type": "code",
        "colab": {}
      },
      "source": [
        "vocab_size = len(word_index)"
      ],
      "execution_count": 0,
      "outputs": []
    },
    {
      "cell_type": "code",
      "metadata": {
        "id": "oSZ_rhjOO4lB",
        "colab_type": "code",
        "colab": {}
      },
      "source": [
        "import numpy as np\n",
        "def vectorize(sequences, dimension = num_words_max):\n",
        "  results = np.zeros((len(sequences), dimension))\n",
        "  for i, sequence in enumerate(sequences):\n",
        "    results[i, sequence] = 1\n",
        "  return results\n",
        "\n",
        "X = vectorize(X, num_words_max)\n",
        "y = np.array(y).astype(\"float32\")\n",
        "X_test = vectorize(X_test, num_words_max)\n",
        "y_test = np.array(y_test).astype(\"float32\")"
      ],
      "execution_count": 0,
      "outputs": []
    },
    {
      "cell_type": "code",
      "metadata": {
        "id": "CRh2Lb57j-0I",
        "colab_type": "code",
        "colab": {
          "base_uri": "https://localhost:8080/",
          "height": 51
        },
        "outputId": "0a7dcb1e-5a20-420c-8702-6ec04c294b2f"
      },
      "source": [
        "print(X.shape, y.shape)\n",
        "spl = int(0.8 * len(X))\n",
        "print(spl)\n",
        "X_train = X[:spl]\n",
        "X_val = X[spl:]\n",
        "y_train = y[:spl]\n",
        "y_val = y[spl:]"
      ],
      "execution_count": 11,
      "outputs": [
        {
          "output_type": "stream",
          "text": [
            "(25000, 3000) (25000,)\n",
            "20000\n"
          ],
          "name": "stdout"
        }
      ]
    },
    {
      "cell_type": "code",
      "metadata": {
        "id": "I2leqrtZoXM1",
        "colab_type": "code",
        "colab": {
          "base_uri": "https://localhost:8080/",
          "height": 34
        },
        "outputId": "9a469314-7721-4401-f8c8-644e405fa660"
      },
      "source": [
        "print(X_train.shape, y_train.shape, X_val.shape, y_val.shape)"
      ],
      "execution_count": 12,
      "outputs": [
        {
          "output_type": "stream",
          "text": [
            "(20000, 3000) (20000,) (5000, 3000) (5000,)\n"
          ],
          "name": "stdout"
        }
      ]
    },
    {
      "cell_type": "code",
      "metadata": {
        "id": "mrT83_EAmiQS",
        "colab_type": "code",
        "colab": {}
      },
      "source": [
        "from keras.models import Sequential\n",
        "from keras.layers import Embedding, GRU, Dense\n",
        "\n",
        "def get_rnn_model(vocab_size, embed_size, input_shape):\n",
        "  embedding = Embedding(vocab_size, embed_size, input_shape=(num_words_max, ))\n",
        "  hidden1 = GRU(128, return_sequences = True)\n",
        "  hidden2 = GRU(128)\n",
        "  dense = Dense(1, activation='sigmoid')\n",
        "  model = Sequential([embedding, hidden1, hidden2, dense])\n",
        "  return model"
      ],
      "execution_count": 0,
      "outputs": []
    },
    {
      "cell_type": "code",
      "metadata": {
        "id": "WnJ1Z0D6fUfS",
        "colab_type": "code",
        "colab": {}
      },
      "source": [
        "from keras.models import Sequential\n",
        "from keras.layers import Dense, Dropout\n",
        "\n",
        "def get_simple_model(input_shape):\n",
        "  model = Sequential()\n",
        "  # Input - Layer\n",
        "  model.add(Dense(50, activation = \"relu\", input_shape=input_shape))\n",
        "  # Hidden - Layers\n",
        "  model.add(Dropout(0.3, noise_shape=None, seed=None))\n",
        "  model.add(Dense(50, activation = \"relu\"))\n",
        "  model.add(Dropout(0.2, noise_shape=None, seed=None))\n",
        "  model.add(Dense(50, activation = \"relu\"))\n",
        "  # Output- Layer\n",
        "  model.add(Dense(1, activation = \"sigmoid\"))\n",
        "  return model"
      ],
      "execution_count": 0,
      "outputs": []
    },
    {
      "cell_type": "code",
      "metadata": {
        "id": "B4TyTV8ffGHL",
        "colab_type": "code",
        "colab": {
          "base_uri": "https://localhost:8080/",
          "height": 544
        },
        "outputId": "6e9be2a7-ee0a-415d-b0b2-e77a908acd01"
      },
      "source": [
        "model = get_simple_model(input_shape=(num_words_max, ))\n",
        "embed_size = 128\n",
        "#model = get_rnn_model(vocab_size, embed_size, (num_words_max, ))\n",
        "model.summary()\n",
        "model.compile(loss='binary_crossentropy', optimizer='adam', metrics=[\"accuracy\"])\n",
        "history = model.fit(X_train, y_train, validation_data=(X_val, y_val), batch_size=128, epochs=5)"
      ],
      "execution_count": 15,
      "outputs": [
        {
          "output_type": "stream",
          "text": [
            "Model: \"sequential_1\"\n",
            "_________________________________________________________________\n",
            "Layer (type)                 Output Shape              Param #   \n",
            "=================================================================\n",
            "dense_1 (Dense)              (None, 50)                150050    \n",
            "_________________________________________________________________\n",
            "dropout_1 (Dropout)          (None, 50)                0         \n",
            "_________________________________________________________________\n",
            "dense_2 (Dense)              (None, 50)                2550      \n",
            "_________________________________________________________________\n",
            "dropout_2 (Dropout)          (None, 50)                0         \n",
            "_________________________________________________________________\n",
            "dense_3 (Dense)              (None, 50)                2550      \n",
            "_________________________________________________________________\n",
            "dense_4 (Dense)              (None, 1)                 51        \n",
            "=================================================================\n",
            "Total params: 155,201\n",
            "Trainable params: 155,201\n",
            "Non-trainable params: 0\n",
            "_________________________________________________________________\n",
            "Train on 20000 samples, validate on 5000 samples\n",
            "Epoch 1/5\n",
            "20000/20000 [==============================] - 2s 76us/step - loss: 0.4315 - accuracy: 0.7985 - val_loss: 0.2894 - val_accuracy: 0.8812\n",
            "Epoch 2/5\n",
            "20000/20000 [==============================] - 1s 57us/step - loss: 0.2582 - accuracy: 0.8967 - val_loss: 0.3022 - val_accuracy: 0.8790\n",
            "Epoch 3/5\n",
            "20000/20000 [==============================] - 1s 59us/step - loss: 0.2043 - accuracy: 0.9232 - val_loss: 0.2975 - val_accuracy: 0.8808\n",
            "Epoch 4/5\n",
            "20000/20000 [==============================] - 1s 58us/step - loss: 0.1539 - accuracy: 0.9442 - val_loss: 0.3281 - val_accuracy: 0.8764\n",
            "Epoch 5/5\n",
            "20000/20000 [==============================] - 1s 58us/step - loss: 0.1128 - accuracy: 0.9603 - val_loss: 0.3987 - val_accuracy: 0.8712\n"
          ],
          "name": "stdout"
        }
      ]
    },
    {
      "cell_type": "code",
      "metadata": {
        "id": "hdW_7Z3JX47a",
        "colab_type": "code",
        "colab": {}
      },
      "source": [
        "#for idx_array,actual in zip(X_test[:5], y_test[:5]):\n",
        "  #print(get_text(idx_array))\n",
        "#  print('The predicted sentiment is {} and the actual sentiment is {} '.format(model.predict(vectorize(idx_array)), actual))"
      ],
      "execution_count": 0,
      "outputs": []
    },
    {
      "cell_type": "code",
      "metadata": {
        "id": "j-0CGFBwqy_Y",
        "colab_type": "code",
        "colab": {
          "base_uri": "https://localhost:8080/",
          "height": 34
        },
        "outputId": "ca1ba200-ca98-4aa9-f94a-6d04d7e8f107"
      },
      "source": [
        "print(np.mean(history.history[\"val_accuracy\"]))"
      ],
      "execution_count": 47,
      "outputs": [
        {
          "output_type": "stream",
          "text": [
            "0.8777200102806091\n"
          ],
          "name": "stdout"
        }
      ]
    },
    {
      "cell_type": "code",
      "metadata": {
        "id": "Z_U3UyE6sBYj",
        "colab_type": "code",
        "colab": {}
      },
      "source": [
        ""
      ],
      "execution_count": 0,
      "outputs": []
    }
  ]
}