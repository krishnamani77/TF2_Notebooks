{
  "nbformat": 4,
  "nbformat_minor": 0,
  "metadata": {
    "colab": {
      "name": "Untitled0.ipynb",
      "provenance": [],
      "authorship_tag": "ABX9TyMAwrVHeXlRsFLkbLsRWEmv",
      "include_colab_link": true
    },
    "kernelspec": {
      "name": "python3",
      "display_name": "Python 3"
    }
  },
  "cells": [
    {
      "cell_type": "markdown",
      "metadata": {
        "id": "view-in-github",
        "colab_type": "text"
      },
      "source": [
        "<a href=\"https://colab.research.google.com/github/krishnamani77/TF2_Notebooks/blob/master/char-rnn.ipynb\" target=\"_parent\"><img src=\"https://colab.research.google.com/assets/colab-badge.svg\" alt=\"Open In Colab\"/></a>"
      ]
    },
    {
      "cell_type": "code",
      "metadata": {
        "id": "aNNyW8VjQzdZ",
        "colab_type": "code",
        "outputId": "c96a3e40-4d10-48ad-d1ee-763073cd97de",
        "colab": {
          "base_uri": "https://localhost:8080/",
          "height": 34
        }
      },
      "source": [
        "import keras\n",
        "import keras.utils\n",
        "\n",
        "sh_url = 'https://homl.info/shakespeare'\n",
        "sh_file = \"sh.txt\"\n",
        "filepath = keras.utils.get_file(sh_file, sh_url)"
      ],
      "execution_count": 2,
      "outputs": [
        {
          "output_type": "stream",
          "text": [
            "Using TensorFlow backend.\n"
          ],
          "name": "stderr"
        }
      ]
    },
    {
      "cell_type": "code",
      "metadata": {
        "id": "HyWSFNKuRTTF",
        "colab_type": "code",
        "colab": {}
      },
      "source": [
        "with open(filepath) as f:\n",
        "  sh_txt = f.read()  "
      ],
      "execution_count": 0,
      "outputs": []
    },
    {
      "cell_type": "code",
      "metadata": {
        "id": "fgA5oflaRcAo",
        "colab_type": "code",
        "colab": {}
      },
      "source": [
        "tokenizer = keras.preprocessing.text.Tokenizer(char_level=True)\n",
        "tokenizer.fit_on_texts([sh_txt])"
      ],
      "execution_count": 0,
      "outputs": []
    },
    {
      "cell_type": "code",
      "metadata": {
        "id": "cChcuTZfRnWe",
        "colab_type": "code",
        "outputId": "b038e649-81ff-4153-d2e5-a24a2cb25338",
        "colab": {
          "base_uri": "https://localhost:8080/",
          "height": 51
        }
      },
      "source": [
        "print(tokenizer.texts_to_sequences(['Hello world']))\n",
        "print(tokenizer.sequences_to_texts([[7,2,12,12,4], [1,17,4,9,12,13]]))"
      ],
      "execution_count": 5,
      "outputs": [
        {
          "output_type": "stream",
          "text": [
            "[[7, 2, 12, 12, 4, 1, 17, 4, 9, 12, 13]]\n",
            "['h e l l o', '  w o r l d']\n"
          ],
          "name": "stdout"
        }
      ]
    },
    {
      "cell_type": "code",
      "metadata": {
        "id": "S9BMxl8mRsZQ",
        "colab_type": "code",
        "outputId": "01800256-f047-4cc4-c1f2-1f3e1cdc7d52",
        "colab": {
          "base_uri": "https://localhost:8080/",
          "height": 34
        }
      },
      "source": [
        "max_id = len(tokenizer.word_index)\n",
        "print(max_id)"
      ],
      "execution_count": 6,
      "outputs": [
        {
          "output_type": "stream",
          "text": [
            "39\n"
          ],
          "name": "stdout"
        }
      ]
    },
    {
      "cell_type": "code",
      "metadata": {
        "id": "WO1GsA_jSKX5",
        "colab_type": "code",
        "outputId": "2c4f4ae7-3638-4eb5-c69c-686b4ba4c6ae",
        "colab": {
          "base_uri": "https://localhost:8080/",
          "height": 54
        }
      },
      "source": [
        "print(tokenizer.word_index)"
      ],
      "execution_count": 7,
      "outputs": [
        {
          "output_type": "stream",
          "text": [
            "{' ': 1, 'e': 2, 't': 3, 'o': 4, 'a': 5, 'i': 6, 'h': 7, 's': 8, 'r': 9, 'n': 10, '\\n': 11, 'l': 12, 'd': 13, 'u': 14, 'm': 15, 'y': 16, 'w': 17, ',': 18, 'c': 19, 'f': 20, 'g': 21, 'b': 22, 'p': 23, ':': 24, 'k': 25, 'v': 26, '.': 27, \"'\": 28, ';': 29, '?': 30, '!': 31, '-': 32, 'j': 33, 'q': 34, 'x': 35, 'z': 36, '3': 37, '&': 38, '$': 39}\n"
          ],
          "name": "stdout"
        }
      ]
    },
    {
      "cell_type": "code",
      "metadata": {
        "id": "wMyVsR6ISXjI",
        "colab_type": "code",
        "colab": {}
      },
      "source": [
        "import numpy as np\n",
        "[encoded] = np.array(tokenizer.texts_to_sequences([sh_txt]))"
      ],
      "execution_count": 0,
      "outputs": []
    },
    {
      "cell_type": "code",
      "metadata": {
        "id": "QhH4J8Z5SqIf",
        "colab_type": "code",
        "outputId": "2a0211d0-785d-4e6e-dbe7-5bb4e148c761",
        "colab": {
          "base_uri": "https://localhost:8080/",
          "height": 34
        }
      },
      "source": [
        "print(encoded[10:20])"
      ],
      "execution_count": 34,
      "outputs": [
        {
          "output_type": "stream",
          "text": [
            "[36  2 10 24 11 22  2 20  4  9]\n"
          ],
          "name": "stdout"
        }
      ]
    },
    {
      "cell_type": "code",
      "metadata": {
        "id": "5etbuiw0Sy6P",
        "colab_type": "code",
        "outputId": "514ee194-33e6-4e92-99d1-4f6414a8e4be",
        "colab": {
          "base_uri": "https://localhost:8080/",
          "height": 34
        }
      },
      "source": [
        "print(len(encoded))"
      ],
      "execution_count": 35,
      "outputs": [
        {
          "output_type": "stream",
          "text": [
            "1115394\n"
          ],
          "name": "stdout"
        }
      ]
    },
    {
      "cell_type": "code",
      "metadata": {
        "id": "RKDoZR5hnCN8",
        "colab_type": "code",
        "outputId": "8db0e7bf-2592-4f05-d301-d41a67ebd9d0",
        "colab": {
          "base_uri": "https://localhost:8080/",
          "height": 34
        }
      },
      "source": [
        "dataset_size = len(encoded)\n",
        "train_size = dataset_size * 90 // 100\n",
        "val_size = dataset_size - train_size\n",
        "X_train = encoded[:train_size]\n",
        "X_val = encoded[:val_size]\n",
        "print(len(X_train), len(X_val))"
      ],
      "execution_count": 36,
      "outputs": [
        {
          "output_type": "stream",
          "text": [
            "1003854 111540\n"
          ],
          "name": "stdout"
        }
      ]
    },
    {
      "cell_type": "code",
      "metadata": {
        "id": "Zrk1Rlq9rjp_",
        "colab_type": "code",
        "colab": {}
      },
      "source": [
        "n_steps = 100  # number of chars in a sequence\n",
        "window_length = n_steps + 1  # target is the char just after n_steps."
      ],
      "execution_count": 0,
      "outputs": []
    },
    {
      "cell_type": "code",
      "metadata": {
        "id": "YYawlJkW3sVJ",
        "colab_type": "code",
        "colab": {}
      },
      "source": [
        "def get_chunks(sequence, n_steps):\n",
        "  # 'abcdefghijkl'  when n_steps = 2 should return ['ab','bc','cd','ef',....'jk'] and ['c','d',....'l']\n",
        "  index = 0\n",
        "  X = list()\n",
        "  y = list()\n",
        "  while index + n_steps <= len(sequence)-1:\n",
        "    X.append(sequence[index:index+n_steps])\n",
        "    y.append(sequence[index+n_steps])\n",
        "    index += 1\n",
        "  return np.asarray(X), np.asarray(y)"
      ],
      "execution_count": 0,
      "outputs": []
    },
    {
      "cell_type": "code",
      "metadata": {
        "id": "0FN00V_G9b-n",
        "colab_type": "code",
        "outputId": "a66c26cf-adff-4dce-b1cf-7db7efd988f2",
        "colab": {
          "base_uri": "https://localhost:8080/",
          "height": 34
        }
      },
      "source": [
        "X, y = get_chunks('abcdefghijkl', 3)\n",
        "print(X, y)"
      ],
      "execution_count": 42,
      "outputs": [
        {
          "output_type": "stream",
          "text": [
            "['abc' 'bcd' 'cde' 'def' 'efg' 'fgh' 'ghi' 'hij' 'ijk'] ['d' 'e' 'f' 'g' 'h' 'i' 'j' 'k' 'l']\n"
          ],
          "name": "stdout"
        }
      ]
    },
    {
      "cell_type": "code",
      "metadata": {
        "id": "pf5g6pR79iEX",
        "colab_type": "code",
        "colab": {}
      },
      "source": [
        "X_train, y_train = get_chunks(X_train, 100)\n",
        "X_val, y_val = get_chunks(X_val, 100)"
      ],
      "execution_count": 0,
      "outputs": []
    },
    {
      "cell_type": "code",
      "metadata": {
        "id": "Fzha1RuWMrfY",
        "colab_type": "code",
        "colab": {}
      },
      "source": [
        "print(X_train.shape, y_train.shape, X_val.shape, y_val.shape)"
      ],
      "execution_count": 0,
      "outputs": []
    },
    {
      "cell_type": "code",
      "metadata": {
        "id": "lmveqlz7NG0X",
        "colab_type": "code",
        "colab": {}
      },
      "source": [
        ""
      ],
      "execution_count": 0,
      "outputs": []
    }
  ]
}