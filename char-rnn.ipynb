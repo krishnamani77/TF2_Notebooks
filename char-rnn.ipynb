{
  "nbformat": 4,
  "nbformat_minor": 0,
  "metadata": {
    "colab": {
      "name": "Untitled0.ipynb",
      "provenance": [],
      "authorship_tag": "ABX9TyOAFFbmzcrmYLxBTfGEcR0o",
      "include_colab_link": true
    },
    "kernelspec": {
      "name": "python3",
      "display_name": "Python 3"
    }
  },
  "cells": [
    {
      "cell_type": "markdown",
      "metadata": {
        "id": "view-in-github",
        "colab_type": "text"
      },
      "source": [
        "<a href=\"https://colab.research.google.com/github/krishnamani77/TF2_Notebooks/blob/master/char-rnn.ipynb\" target=\"_parent\"><img src=\"https://colab.research.google.com/assets/colab-badge.svg\" alt=\"Open In Colab\"/></a>"
      ]
    },
    {
      "cell_type": "code",
      "metadata": {
        "id": "aNNyW8VjQzdZ",
        "colab_type": "code",
        "outputId": "9c18eca3-6998-4954-f4a1-0b4fb9de8bc4",
        "colab": {
          "base_uri": "https://localhost:8080/",
          "height": 68
        }
      },
      "source": [
        "import keras\n",
        "import keras.utils\n",
        "\n",
        "sh_url = 'https://homl.info/shakespeare'\n",
        "sh_file = \"sh.txt\"\n",
        "filepath = keras.utils.get_file(sh_file, sh_url)"
      ],
      "execution_count": 2,
      "outputs": [
        {
          "output_type": "stream",
          "text": [
            "Using TensorFlow backend.\n"
          ],
          "name": "stderr"
        },
        {
          "output_type": "stream",
          "text": [
            "Downloading data from https://homl.info/shakespeare\n",
            "1122304/1115394 [==============================] - 0s 0us/step\n"
          ],
          "name": "stdout"
        }
      ]
    },
    {
      "cell_type": "code",
      "metadata": {
        "id": "HyWSFNKuRTTF",
        "colab_type": "code",
        "colab": {}
      },
      "source": [
        "with open(filepath) as f:\n",
        "  sh_txt = f.read()  "
      ],
      "execution_count": 0,
      "outputs": []
    },
    {
      "cell_type": "code",
      "metadata": {
        "id": "fgA5oflaRcAo",
        "colab_type": "code",
        "colab": {}
      },
      "source": [
        "tokenizer = keras.preprocessing.text.Tokenizer(char_level=True)\n",
        "tokenizer.fit_on_texts([sh_txt])"
      ],
      "execution_count": 0,
      "outputs": []
    },
    {
      "cell_type": "code",
      "metadata": {
        "id": "cChcuTZfRnWe",
        "colab_type": "code",
        "outputId": "f291b1ae-0e7b-4397-a6a4-74273680f1e0",
        "colab": {
          "base_uri": "https://localhost:8080/",
          "height": 51
        }
      },
      "source": [
        "print(tokenizer.texts_to_sequences(['Hello world']))\n",
        "print(tokenizer.sequences_to_texts([[7,2,12,12,4], [1,17,4,9,12,13]]))"
      ],
      "execution_count": 5,
      "outputs": [
        {
          "output_type": "stream",
          "text": [
            "[[7, 2, 12, 12, 4, 1, 17, 4, 9, 12, 13]]\n",
            "['h e l l o', '  w o r l d']\n"
          ],
          "name": "stdout"
        }
      ]
    },
    {
      "cell_type": "code",
      "metadata": {
        "id": "S9BMxl8mRsZQ",
        "colab_type": "code",
        "outputId": "1ec7e23d-84de-47e9-9c99-561c66a3b3ea",
        "colab": {
          "base_uri": "https://localhost:8080/",
          "height": 34
        }
      },
      "source": [
        "max_id = len(tokenizer.word_index)\n",
        "print(max_id)"
      ],
      "execution_count": 6,
      "outputs": [
        {
          "output_type": "stream",
          "text": [
            "39\n"
          ],
          "name": "stdout"
        }
      ]
    },
    {
      "cell_type": "code",
      "metadata": {
        "id": "WO1GsA_jSKX5",
        "colab_type": "code",
        "outputId": "538d4859-9fb8-457a-8c85-d3c866f9f559",
        "colab": {
          "base_uri": "https://localhost:8080/",
          "height": 54
        }
      },
      "source": [
        "print(tokenizer.word_index)"
      ],
      "execution_count": 7,
      "outputs": [
        {
          "output_type": "stream",
          "text": [
            "{' ': 1, 'e': 2, 't': 3, 'o': 4, 'a': 5, 'i': 6, 'h': 7, 's': 8, 'r': 9, 'n': 10, '\\n': 11, 'l': 12, 'd': 13, 'u': 14, 'm': 15, 'y': 16, 'w': 17, ',': 18, 'c': 19, 'f': 20, 'g': 21, 'b': 22, 'p': 23, ':': 24, 'k': 25, 'v': 26, '.': 27, \"'\": 28, ';': 29, '?': 30, '!': 31, '-': 32, 'j': 33, 'q': 34, 'x': 35, 'z': 36, '3': 37, '&': 38, '$': 39}\n"
          ],
          "name": "stdout"
        }
      ]
    },
    {
      "cell_type": "code",
      "metadata": {
        "id": "wMyVsR6ISXjI",
        "colab_type": "code",
        "colab": {}
      },
      "source": [
        "import numpy as np\n",
        "[encoded] = np.array(tokenizer.texts_to_sequences([sh_txt]))"
      ],
      "execution_count": 0,
      "outputs": []
    },
    {
      "cell_type": "code",
      "metadata": {
        "id": "QhH4J8Z5SqIf",
        "colab_type": "code",
        "outputId": "102b2f57-29fe-4934-ccd8-4956791a979d",
        "colab": {
          "base_uri": "https://localhost:8080/",
          "height": 34
        }
      },
      "source": [
        "print(encoded[10:20])"
      ],
      "execution_count": 9,
      "outputs": [
        {
          "output_type": "stream",
          "text": [
            "[36  2 10 24 11 22  2 20  4  9]\n"
          ],
          "name": "stdout"
        }
      ]
    },
    {
      "cell_type": "code",
      "metadata": {
        "id": "5etbuiw0Sy6P",
        "colab_type": "code",
        "outputId": "4acbaece-39a3-4f5b-e82f-2454ad7ebbd1",
        "colab": {
          "base_uri": "https://localhost:8080/",
          "height": 34
        }
      },
      "source": [
        "print(len(encoded))"
      ],
      "execution_count": 10,
      "outputs": [
        {
          "output_type": "stream",
          "text": [
            "1115394\n"
          ],
          "name": "stdout"
        }
      ]
    },
    {
      "cell_type": "code",
      "metadata": {
        "id": "RKDoZR5hnCN8",
        "colab_type": "code",
        "outputId": "71e58ddf-29b5-453e-95d7-c3b35371aa3e",
        "colab": {
          "base_uri": "https://localhost:8080/",
          "height": 34
        }
      },
      "source": [
        "dataset_size = len(encoded)\n",
        "train_size = dataset_size * 90 // 100\n",
        "val_size = dataset_size - train_size\n",
        "X_train = encoded[:train_size]\n",
        "X_val = encoded[:val_size]\n",
        "print(len(X_train), len(X_val))"
      ],
      "execution_count": 11,
      "outputs": [
        {
          "output_type": "stream",
          "text": [
            "1003854 111540\n"
          ],
          "name": "stdout"
        }
      ]
    },
    {
      "cell_type": "code",
      "metadata": {
        "id": "Zrk1Rlq9rjp_",
        "colab_type": "code",
        "colab": {}
      },
      "source": [
        "n_steps = 100  # number of chars in a sequence\n",
        "window_length = n_steps + 1  # target is the char just after n_steps."
      ],
      "execution_count": 0,
      "outputs": []
    },
    {
      "cell_type": "code",
      "metadata": {
        "id": "YYawlJkW3sVJ",
        "colab_type": "code",
        "colab": {}
      },
      "source": [
        "def get_chunks(sequence, n_steps):\n",
        "  # 'abcdefghijkl'  when n_steps = 2 should return ['ab','bc','cd','ef',....'jk'] and ['c','d',....'l']\n",
        "  index = 0\n",
        "  X = list()\n",
        "  y = list()\n",
        "  while index + n_steps <= len(sequence)-1:\n",
        "    print(index, index+ n_steps, len(sequence)-1)\n",
        "    X.append(sequence[index:index+n_steps])\n",
        "    y.append(sequence[index+n_steps])\n",
        "    index += 1\n",
        "  return X,y"
      ],
      "execution_count": 0,
      "outputs": []
    },
    {
      "cell_type": "code",
      "metadata": {
        "id": "0FN00V_G9b-n",
        "colab_type": "code",
        "colab": {
          "base_uri": "https://localhost:8080/",
          "height": 204
        },
        "outputId": "05c97c59-bd92-46bd-81c0-bd3a4a707128"
      },
      "source": [
        "X, y = get_chunks('abcdefghijkl', 2)\n",
        "print(X, y)"
      ],
      "execution_count": 24,
      "outputs": [
        {
          "output_type": "stream",
          "text": [
            "0 2 11\n",
            "1 3 11\n",
            "2 4 11\n",
            "3 5 11\n",
            "4 6 11\n",
            "5 7 11\n",
            "6 8 11\n",
            "7 9 11\n",
            "8 10 11\n",
            "9 11 11\n",
            "['ab', 'bc', 'cd', 'de', 'ef', 'fg', 'gh', 'hi', 'ij', 'jk'] ['c', 'd', 'e', 'f', 'g', 'h', 'i', 'j', 'k', 'l']\n"
          ],
          "name": "stdout"
        }
      ]
    },
    {
      "cell_type": "code",
      "metadata": {
        "id": "pf5g6pR79iEX",
        "colab_type": "code",
        "colab": {}
      },
      "source": [
        ""
      ],
      "execution_count": 0,
      "outputs": []
    }
  ]
}