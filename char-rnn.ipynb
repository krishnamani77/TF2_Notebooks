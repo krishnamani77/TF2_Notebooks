{
  "nbformat": 4,
  "nbformat_minor": 0,
  "metadata": {
    "colab": {
      "name": "Untitled0.ipynb",
      "provenance": [],
      "authorship_tag": "ABX9TyPhMT+qpr4w92qM8LE+7Afp",
      "include_colab_link": true
    },
    "kernelspec": {
      "name": "python3",
      "display_name": "Python 3"
    }
  },
  "cells": [
    {
      "cell_type": "markdown",
      "metadata": {
        "id": "view-in-github",
        "colab_type": "text"
      },
      "source": [
        "<a href=\"https://colab.research.google.com/github/krishnamani77/TF2_Notebooks/blob/master/char-rnn.ipynb\" target=\"_parent\"><img src=\"https://colab.research.google.com/assets/colab-badge.svg\" alt=\"Open In Colab\"/></a>"
      ]
    },
    {
      "cell_type": "code",
      "metadata": {
        "id": "aNNyW8VjQzdZ",
        "colab_type": "code",
        "colab": {
          "base_uri": "https://localhost:8080/",
          "height": 68
        },
        "outputId": "1cb650b6-2293-4b17-8c64-09d08e4f3a46"
      },
      "source": [
        "import keras\n",
        "import keras.utils\n",
        "\n",
        "sh_url = 'https://homl.info/shakespeare'\n",
        "sh_file = \"sh.txt\"\n",
        "filepath = keras.utils.get_file(sh_file, sh_url)"
      ],
      "execution_count": 1,
      "outputs": [
        {
          "output_type": "stream",
          "text": [
            "Using TensorFlow backend.\n"
          ],
          "name": "stderr"
        },
        {
          "output_type": "stream",
          "text": [
            "Downloading data from https://homl.info/shakespeare\n",
            "1122304/1115394 [==============================] - 0s 0us/step\n"
          ],
          "name": "stdout"
        }
      ]
    },
    {
      "cell_type": "code",
      "metadata": {
        "id": "HyWSFNKuRTTF",
        "colab_type": "code",
        "colab": {}
      },
      "source": [
        "with open(filepath) as f:\n",
        "  sh_txt = f.read()  "
      ],
      "execution_count": 0,
      "outputs": []
    },
    {
      "cell_type": "code",
      "metadata": {
        "id": "fgA5oflaRcAo",
        "colab_type": "code",
        "colab": {}
      },
      "source": [
        "tokenizer = keras.preprocessing.text.Tokenizer(char_level=True)\n",
        "tokenizer.fit_on_texts([sh_txt])"
      ],
      "execution_count": 0,
      "outputs": []
    },
    {
      "cell_type": "code",
      "metadata": {
        "id": "cChcuTZfRnWe",
        "colab_type": "code",
        "outputId": "c7a6a24f-90af-4639-fecb-ae80e7519771",
        "colab": {
          "base_uri": "https://localhost:8080/",
          "height": 51
        }
      },
      "source": [
        "print(tokenizer.texts_to_sequences(['Hello world']))\n",
        "print(tokenizer.sequences_to_texts([[7,2,12,12,4], [1,17,4,9,12,13]]))"
      ],
      "execution_count": 4,
      "outputs": [
        {
          "output_type": "stream",
          "text": [
            "[[7, 2, 12, 12, 4, 1, 17, 4, 9, 12, 13]]\n",
            "['h e l l o', '  w o r l d']\n"
          ],
          "name": "stdout"
        }
      ]
    },
    {
      "cell_type": "code",
      "metadata": {
        "id": "S9BMxl8mRsZQ",
        "colab_type": "code",
        "outputId": "b687dd59-a313-4daa-b586-98fef681dd0a",
        "colab": {
          "base_uri": "https://localhost:8080/",
          "height": 34
        }
      },
      "source": [
        "max_id = len(tokenizer.word_index)\n",
        "print(max_id)"
      ],
      "execution_count": 5,
      "outputs": [
        {
          "output_type": "stream",
          "text": [
            "39\n"
          ],
          "name": "stdout"
        }
      ]
    },
    {
      "cell_type": "code",
      "metadata": {
        "id": "WO1GsA_jSKX5",
        "colab_type": "code",
        "outputId": "052de2b6-76f1-4967-fe50-124b20e409ee",
        "colab": {
          "base_uri": "https://localhost:8080/",
          "height": 54
        }
      },
      "source": [
        "print(tokenizer.word_index)"
      ],
      "execution_count": 6,
      "outputs": [
        {
          "output_type": "stream",
          "text": [
            "{' ': 1, 'e': 2, 't': 3, 'o': 4, 'a': 5, 'i': 6, 'h': 7, 's': 8, 'r': 9, 'n': 10, '\\n': 11, 'l': 12, 'd': 13, 'u': 14, 'm': 15, 'y': 16, 'w': 17, ',': 18, 'c': 19, 'f': 20, 'g': 21, 'b': 22, 'p': 23, ':': 24, 'k': 25, 'v': 26, '.': 27, \"'\": 28, ';': 29, '?': 30, '!': 31, '-': 32, 'j': 33, 'q': 34, 'x': 35, 'z': 36, '3': 37, '&': 38, '$': 39}\n"
          ],
          "name": "stdout"
        }
      ]
    },
    {
      "cell_type": "code",
      "metadata": {
        "id": "wMyVsR6ISXjI",
        "colab_type": "code",
        "colab": {}
      },
      "source": [
        "import numpy as np\n",
        "[encoded] = np.array(tokenizer.texts_to_sequences([sh_txt]))"
      ],
      "execution_count": 0,
      "outputs": []
    },
    {
      "cell_type": "code",
      "metadata": {
        "id": "QhH4J8Z5SqIf",
        "colab_type": "code",
        "outputId": "3850b5b2-a2c9-440b-9b39-0addadff126b",
        "colab": {
          "base_uri": "https://localhost:8080/",
          "height": 34
        }
      },
      "source": [
        "print(encoded[10:20])"
      ],
      "execution_count": 8,
      "outputs": [
        {
          "output_type": "stream",
          "text": [
            "[36  2 10 24 11 22  2 20  4  9]\n"
          ],
          "name": "stdout"
        }
      ]
    },
    {
      "cell_type": "code",
      "metadata": {
        "id": "v4JSYLNRSq_U",
        "colab_type": "code",
        "outputId": "29d2d7a3-1a65-4039-fbc2-21622b8aed45",
        "colab": {
          "base_uri": "https://localhost:8080/",
          "height": 34
        }
      },
      "source": [
        "print(encoded.__class__)"
      ],
      "execution_count": 9,
      "outputs": [
        {
          "output_type": "stream",
          "text": [
            "<class 'numpy.ndarray'>\n"
          ],
          "name": "stdout"
        }
      ]
    },
    {
      "cell_type": "code",
      "metadata": {
        "id": "m5qYGgY5SdRS",
        "colab_type": "code",
        "outputId": "0f598e56-db62-4e75-c46f-1d7a683c1f56",
        "colab": {
          "base_uri": "https://localhost:8080/",
          "height": 34
        }
      },
      "source": [
        "subseq = encoded[10:20]\n",
        "subseq = subseq.reshape([subseq.shape[0],1])\n",
        "print(tokenizer.sequences_to_texts(subseq))"
      ],
      "execution_count": 10,
      "outputs": [
        {
          "output_type": "stream",
          "text": [
            "['z', 'e', 'n', ':', '\\n', 'b', 'e', 'f', 'o', 'r']\n"
          ],
          "name": "stdout"
        }
      ]
    },
    {
      "cell_type": "code",
      "metadata": {
        "id": "5etbuiw0Sy6P",
        "colab_type": "code",
        "outputId": "c074b2eb-2561-456f-ff50-b024725563d8",
        "colab": {
          "base_uri": "https://localhost:8080/",
          "height": 34
        }
      },
      "source": [
        "print(len(encoded))"
      ],
      "execution_count": 11,
      "outputs": [
        {
          "output_type": "stream",
          "text": [
            "1115394\n"
          ],
          "name": "stdout"
        }
      ]
    },
    {
      "cell_type": "code",
      "metadata": {
        "id": "RKDoZR5hnCN8",
        "colab_type": "code",
        "outputId": "efd84895-b1a9-473c-873a-d53df586c2b7",
        "colab": {
          "base_uri": "https://localhost:8080/",
          "height": 34
        }
      },
      "source": [
        "dataset_size = len(encoded)\n",
        "train_size = dataset_size * 90 // 100\n",
        "val_size = dataset_size - train_size\n",
        "X_train = encoded[:train_size]\n",
        "X_val = encoded[:val_size]\n",
        "print(len(X_train), len(X_val))"
      ],
      "execution_count": 12,
      "outputs": [
        {
          "output_type": "stream",
          "text": [
            "1003854 111540\n"
          ],
          "name": "stdout"
        }
      ]
    },
    {
      "cell_type": "code",
      "metadata": {
        "id": "Zrk1Rlq9rjp_",
        "colab_type": "code",
        "colab": {}
      },
      "source": [
        "n_steps = 100  # number of chars in a sequence\n",
        "window_length = n_steps + 1  # target is the char just after n_steps."
      ],
      "execution_count": 0,
      "outputs": []
    },
    {
      "cell_type": "code",
      "metadata": {
        "id": "YYawlJkW3sVJ",
        "colab_type": "code",
        "colab": {}
      },
      "source": [
        "def get_chunks(sequence, n_steps):\n",
        "  # 'abcdefghijkl'  when n_steps = 2 should return ['ab','bc','cd','ef',....'jk'] and ['c','d',....'l']\n",
        "  index = 0\n",
        "  X = []\n",
        "  y = []\n",
        "  while index + n_steps <= len(sequence)-1:\n",
        "    X.append(sequence[index:index+n_steps])\n",
        "    y.append(sequence[index+n_steps])\n",
        "    index += 1\n",
        "  return X, y"
      ],
      "execution_count": 0,
      "outputs": []
    },
    {
      "cell_type": "code",
      "metadata": {
        "id": "0FN00V_G9b-n",
        "colab_type": "code",
        "outputId": "9a34a107-c764-4cc1-8ebe-9d9504bebb92",
        "colab": {
          "base_uri": "https://localhost:8080/",
          "height": 34
        }
      },
      "source": [
        "X, y = get_chunks('abcdefghijkl', 3)\n",
        "print(X, y)"
      ],
      "execution_count": 15,
      "outputs": [
        {
          "output_type": "stream",
          "text": [
            "['abc', 'bcd', 'cde', 'def', 'efg', 'fgh', 'ghi', 'hij', 'ijk'] ['d', 'e', 'f', 'g', 'h', 'i', 'j', 'k', 'l']\n"
          ],
          "name": "stdout"
        }
      ]
    },
    {
      "cell_type": "code",
      "metadata": {
        "id": "pf5g6pR79iEX",
        "colab_type": "code",
        "colab": {}
      },
      "source": [
        "X_train, y_train = get_chunks(X_train, 100)\n",
        "X_val, y_val = get_chunks(X_val, 100)"
      ],
      "execution_count": 0,
      "outputs": []
    },
    {
      "cell_type": "code",
      "metadata": {
        "id": "vsokS9SStw09",
        "colab_type": "code",
        "colab": {
          "base_uri": "https://localhost:8080/",
          "height": 187
        },
        "outputId": "e48822f1-891f-4bd6-ad0e-1ad833416b55"
      },
      "source": [
        "print(X_train[876], y_train[876])\n",
        "print(X_val[6578], y_val[6578])"
      ],
      "execution_count": 20,
      "outputs": [
        {
          "output_type": "stream",
          "text": [
            "[ 2  1  3  7  6  8  1 17  6  3  7 11  4 14  9  1 23  6 25  2  8 18  1  2\n",
            "  9  2  1 17  2  1 22  2 19  4 15  2  1  9  5 25  2  8 24  1 20  4  9  1\n",
            "  3  7  2  1 21  4 13  8  1 25 10  4 17  1  6 11  8 23  2  5 25  1  3  7\n",
            "  6  8  1  6 10  1  7 14 10 21  2  9  1 20  4  9  1 22  9  2  5 13 18  1\n",
            " 10  4  3  1] 6\n",
            "[ 8  1  4 20  1  9  4 15  2  1  5  9  2  1  3  7  6  8  1 21  4  4 13  1\n",
            " 22  2 12 12 16 18 11  5 10 13  1 16  4 14  1  3  7  2  1 15 14  3  6 10\n",
            "  4 14  8  1 15  2 15 22  2  9  8 29  1 20  4  9  1  2 35  5 15  6 10  2\n",
            " 11  3  7  2  6  9  1 19  4 14 10  8  2 12  8  1  5 10 13  1  3  7  2  6\n",
            "  9  1 19  5] 9\n"
          ],
          "name": "stdout"
        }
      ]
    },
    {
      "cell_type": "code",
      "metadata": {
        "id": "Fzha1RuWMrfY",
        "colab_type": "code",
        "outputId": "8c50d553-3a18-423b-8d2a-8267ed6505e3",
        "colab": {
          "base_uri": "https://localhost:8080/",
          "height": 34
        }
      },
      "source": [
        "total_chars = (len(X_train)*100+ len(y_train)+ len(X_val)*100+ len(y_val))\n",
        "mem = total_chars/1024/1024/1024\n",
        "print(mem)"
      ],
      "execution_count": 21,
      "outputs": [
        {
          "output_type": "stream",
          "text": [
            "0.10489914007484913\n"
          ],
          "name": "stdout"
        }
      ]
    },
    {
      "cell_type": "code",
      "metadata": {
        "id": "lmveqlz7NG0X",
        "colab_type": "code",
        "colab": {}
      },
      "source": [
        "#for i in range(10):\n",
        "#  print(''.join(c for c in tokenizer.sequences_to_texts(X_train[10+i].reshape([X_train[10+i].shape[0],1]))))\n",
        "#  print(tokenizer.sequences_to_texts(y_train[10+i].reshape([1,1])))"
      ],
      "execution_count": 0,
      "outputs": []
    },
    {
      "cell_type": "code",
      "metadata": {
        "id": "36CzBshBR2sY",
        "colab_type": "code",
        "colab": {}
      },
      "source": [
        "def get_batch(X,y,batch_size=32):\n",
        "  for offset in range(0, len(x), batch_size):\n",
        "    yield X[offset:offset+batch_size], y[offset:offset+batch_size]"
      ],
      "execution_count": 0,
      "outputs": []
    },
    {
      "cell_type": "code",
      "metadata": {
        "id": "vuNrgvxltrwO",
        "colab_type": "code",
        "colab": {}
      },
      "source": [
        "import tensorflow as tf\n",
        "def get_one_hot(X, max_id):\n",
        "  return tf.one_hot(X, depth=max_id)"
      ],
      "execution_count": 0,
      "outputs": []
    },
    {
      "cell_type": "code",
      "metadata": {
        "id": "3Mq3Y3XHwVql",
        "colab_type": "code",
        "colab": {
          "base_uri": "https://localhost:8080/",
          "height": 153
        },
        "outputId": "41357ae3-7844-463d-fbcd-4f547d5215d8"
      },
      "source": [
        "print(get_one_hot(X_train[0], max_id))"
      ],
      "execution_count": 29,
      "outputs": [
        {
          "output_type": "stream",
          "text": [
            "tf.Tensor(\n",
            "[[0. 0. 0. ... 0. 0. 0.]\n",
            " [0. 0. 0. ... 0. 0. 0.]\n",
            " [0. 0. 0. ... 0. 0. 0.]\n",
            " ...\n",
            " [0. 0. 0. ... 0. 0. 0.]\n",
            " [0. 0. 0. ... 0. 0. 0.]\n",
            " [0. 0. 0. ... 0. 0. 0.]], shape=(100, 39), dtype=float32)\n"
          ],
          "name": "stdout"
        }
      ]
    },
    {
      "cell_type": "code",
      "metadata": {
        "id": "xiyrZT6Owekj",
        "colab_type": "code",
        "colab": {}
      },
      "source": [
        ""
      ],
      "execution_count": 0,
      "outputs": []
    }
  ]
}